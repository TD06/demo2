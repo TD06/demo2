{
  "nbformat": 4,
  "nbformat_minor": 0,
  "metadata": {
    "colab": {
      "provenance": [],
      "include_colab_link": true
    },
    "kernelspec": {
      "name": "python3",
      "display_name": "Python 3"
    },
    "language_info": {
      "name": "python"
    }
  },
  "cells": [
    {
      "cell_type": "markdown",
      "metadata": {
        "id": "view-in-github",
        "colab_type": "text"
      },
      "source": [
        "<a href=\"https://colab.research.google.com/github/TD06/demo2/blob/master/Audio_sentimentAnalysis.ipynb\" target=\"_parent\"><img src=\"https://colab.research.google.com/assets/colab-badge.svg\" alt=\"Open In Colab\"/></a>"
      ]
    },
    {
      "cell_type": "code",
      "execution_count": null,
      "metadata": {
        "colab": {
          "base_uri": "https://localhost:8080/"
        },
        "id": "4sykMwyeaxFL",
        "outputId": "dc36e751-56b3-4c98-8190-2eb33a5f5955"
      },
      "outputs": [
        {
          "output_type": "stream",
          "name": "stdout",
          "text": [
            "Requirement already satisfied: requests in /usr/local/lib/python3.10/dist-packages (2.31.0)\n",
            "Requirement already satisfied: charset-normalizer<4,>=2 in /usr/local/lib/python3.10/dist-packages (from requests) (3.3.2)\n",
            "Requirement already satisfied: idna<4,>=2.5 in /usr/local/lib/python3.10/dist-packages (from requests) (3.7)\n",
            "Requirement already satisfied: urllib3<3,>=1.21.1 in /usr/local/lib/python3.10/dist-packages (from requests) (2.0.7)\n",
            "Requirement already satisfied: certifi>=2017.4.17 in /usr/local/lib/python3.10/dist-packages (from requests) (2024.7.4)\n"
          ]
        }
      ],
      "source": [
        "pip install requests"
      ]
    },
    {
      "cell_type": "code",
      "source": [
        "import requests\n",
        "from time import sleep\n",
        "import pandas as pd\n"
      ],
      "metadata": {
        "id": "ovim1mdMdcx8"
      },
      "execution_count": null,
      "outputs": []
    },
    {
      "cell_type": "code",
      "source": [
        "# Obtained in Step 2\n",
        "API_key = \"1b59c8a6d42f449a97c9cd54fc78eecc\"\n",
        "\n",
        "## Location on local machine\n",
        "file = '/content/conversation-25675.mp3'"
      ],
      "metadata": {
        "id": "6i3EACCEd5UB"
      },
      "execution_count": null,
      "outputs": []
    },
    {
      "cell_type": "code",
      "source": [
        "headers = {\n",
        "    'authorization': API_key,\n",
        "    'content-type': 'application/json',\n",
        "}\n",
        "\n",
        "endpoint = 'https://api.assemblyai.com/v2/upload'"
      ],
      "metadata": {
        "id": "NE1k2cC6fAsU"
      },
      "execution_count": null,
      "outputs": []
    },
    {
      "cell_type": "code",
      "source": [
        "def read_file(file):\n",
        "\n",
        "    with open(file, 'rb') as f:\n",
        "        while True:\n",
        "            data = f.read(5_242_880)\n",
        "            if not data:\n",
        "                break\n",
        "            yield data"
      ],
      "metadata": {
        "id": "Kv23iyIJfZNH"
      },
      "execution_count": null,
      "outputs": []
    },
    {
      "cell_type": "code",
      "source": [
        "res_upload = requests.post(\n",
        "    endpoint,\n",
        "    headers=headers,\n",
        "    data=read_file(file)\n",
        ")\n",
        "\n",
        "print(res_upload.json())\n",
        "\n",
        "upload_url = res_upload.json().get('upload_url')"
      ],
      "metadata": {
        "colab": {
          "base_uri": "https://localhost:8080/"
        },
        "id": "-PvqGWdsfw7g",
        "outputId": "f577dad9-c838-4715-e6d0-575d11ca57dd"
      },
      "execution_count": null,
      "outputs": [
        {
          "output_type": "stream",
          "name": "stdout",
          "text": [
            "{'upload_url': 'https://cdn.assemblyai.com/upload/b10c2fe8-c871-49c4-89a4-db2eba655f38'}\n"
          ]
        }
      ]
    },
    {
      "cell_type": "code",
      "source": [
        "endpoint = \"https://api.assemblyai.com/v2/transcript\"\n",
        "\n",
        "json = {\n",
        "    \"audio_url\": upload_url,\n",
        "    \"sentiment_analysis\": True,\n",
        "    \"speaker_labels\": True\n",
        "}\n",
        "\n",
        "headers = {\n",
        "    \"authorization\": API_key,\n",
        "    \"content-type\": \"application/json\"\n",
        "}\n",
        "\n",
        "response = requests.post(endpoint, json=json, headers=headers)\n",
        "\n",
        "response.json()"
      ],
      "metadata": {
        "colab": {
          "base_uri": "https://localhost:8080/"
        },
        "id": "mLhlpCKDo6yz",
        "outputId": "6febf1be-6000-4078-8e67-1476dab49537"
      },
      "execution_count": null,
      "outputs": [
        {
          "output_type": "execute_result",
          "data": {
            "text/plain": [
              "{'id': 'cf87acc3-dfab-4826-afcf-85f292736216',\n",
              " 'language_model': 'assemblyai_default',\n",
              " 'acoustic_model': 'assemblyai_default',\n",
              " 'language_code': 'en_us',\n",
              " 'status': 'queued',\n",
              " 'audio_url': 'https://cdn.assemblyai.com/upload/b10c2fe8-c871-49c4-89a4-db2eba655f38',\n",
              " 'text': None,\n",
              " 'words': None,\n",
              " 'utterances': None,\n",
              " 'confidence': None,\n",
              " 'audio_duration': None,\n",
              " 'punctuate': True,\n",
              " 'format_text': True,\n",
              " 'dual_channel': False,\n",
              " 'webhook_url': None,\n",
              " 'webhook_status_code': None,\n",
              " 'webhook_auth': False,\n",
              " 'webhook_auth_header_name': None,\n",
              " 'speed_boost': False,\n",
              " 'auto_highlights_result': None,\n",
              " 'auto_highlights': False,\n",
              " 'audio_start_from': None,\n",
              " 'audio_end_at': None,\n",
              " 'word_boost': [],\n",
              " 'boost_param': None,\n",
              " 'filter_profanity': False,\n",
              " 'redact_pii': False,\n",
              " 'redact_pii_audio': False,\n",
              " 'redact_pii_audio_quality': None,\n",
              " 'redact_pii_policies': None,\n",
              " 'redact_pii_sub': None,\n",
              " 'speaker_labels': True,\n",
              " 'content_safety': False,\n",
              " 'iab_categories': False,\n",
              " 'content_safety_labels': {},\n",
              " 'iab_categories_result': {},\n",
              " 'language_detection': False,\n",
              " 'language_detection_threshold': None,\n",
              " 'language_confidence': None,\n",
              " 'custom_spelling': None,\n",
              " 'throttled': False,\n",
              " 'auto_chapters': False,\n",
              " 'summarization': False,\n",
              " 'summary_type': None,\n",
              " 'summary_model': None,\n",
              " 'custom_topics': False,\n",
              " 'topics': [],\n",
              " 'speech_threshold': None,\n",
              " 'speech_model': None,\n",
              " 'chapters': None,\n",
              " 'disfluencies': False,\n",
              " 'entity_detection': False,\n",
              " 'sentiment_analysis': True,\n",
              " 'sentiment_analysis_results': None,\n",
              " 'entities': None,\n",
              " 'speakers_expected': None,\n",
              " 'summary': None,\n",
              " 'custom_topics_results': None,\n",
              " 'is_deleted': None}"
            ]
          },
          "metadata": {},
          "execution_count": 14
        }
      ]
    },
    {
      "cell_type": "code",
      "source": [
        "response_id = response.json()['id']\n",
        "\n",
        "endpoint = f\"https://api.assemblyai.com/v2/transcript/{response_id}\"\n",
        "\n",
        "headers = {\n",
        "    \"authorization\": API_key,\n",
        "}\n",
        "response = requests.get(endpoint, headers=headers)\n",
        "\n",
        "response.json()\n"
      ],
      "metadata": {
        "colab": {
          "base_uri": "https://localhost:8080/"
        },
        "id": "IRAleB3BpD6L",
        "outputId": "f8c2d3ae-9481-4011-b818-c69d3925e934"
      },
      "execution_count": null,
      "outputs": [
        {
          "output_type": "execute_result",
          "data": {
            "text/plain": [
              "{'id': 'cf87acc3-dfab-4826-afcf-85f292736216',\n",
              " 'language_model': 'assemblyai_default',\n",
              " 'acoustic_model': 'assemblyai_default',\n",
              " 'language_code': 'en_us',\n",
              " 'status': 'completed',\n",
              " 'audio_url': 'https://cdn.assemblyai.com/upload/b10c2fe8-c871-49c4-89a4-db2eba655f38',\n",
              " 'text': '',\n",
              " 'words': [],\n",
              " 'utterances': None,\n",
              " 'confidence': 0.0,\n",
              " 'audio_duration': 60,\n",
              " 'punctuate': True,\n",
              " 'format_text': True,\n",
              " 'dual_channel': False,\n",
              " 'webhook_url': None,\n",
              " 'webhook_status_code': None,\n",
              " 'webhook_auth': False,\n",
              " 'webhook_auth_header_name': None,\n",
              " 'speed_boost': False,\n",
              " 'auto_highlights_result': None,\n",
              " 'auto_highlights': False,\n",
              " 'audio_start_from': None,\n",
              " 'audio_end_at': None,\n",
              " 'word_boost': [],\n",
              " 'boost_param': None,\n",
              " 'filter_profanity': False,\n",
              " 'redact_pii': False,\n",
              " 'redact_pii_audio': False,\n",
              " 'redact_pii_audio_quality': None,\n",
              " 'redact_pii_policies': None,\n",
              " 'redact_pii_sub': None,\n",
              " 'speaker_labels': True,\n",
              " 'content_safety': False,\n",
              " 'iab_categories': False,\n",
              " 'content_safety_labels': {'status': 'unavailable',\n",
              "  'results': [],\n",
              "  'summary': {}},\n",
              " 'iab_categories_result': {'status': 'unavailable',\n",
              "  'results': [],\n",
              "  'summary': {}},\n",
              " 'language_detection': False,\n",
              " 'language_detection_threshold': None,\n",
              " 'language_confidence': None,\n",
              " 'custom_spelling': None,\n",
              " 'throttled': False,\n",
              " 'auto_chapters': False,\n",
              " 'summarization': False,\n",
              " 'summary_type': None,\n",
              " 'summary_model': None,\n",
              " 'custom_topics': False,\n",
              " 'topics': [],\n",
              " 'speech_threshold': None,\n",
              " 'speech_model': None,\n",
              " 'chapters': None,\n",
              " 'disfluencies': False,\n",
              " 'entity_detection': False,\n",
              " 'sentiment_analysis': True,\n",
              " 'sentiment_analysis_results': None,\n",
              " 'entities': None,\n",
              " 'speakers_expected': None,\n",
              " 'summary': None,\n",
              " 'custom_topics_results': None,\n",
              " 'is_deleted': None}"
            ]
          },
          "metadata": {},
          "execution_count": 15
        }
      ]
    },
    {
      "cell_type": "code",
      "source": [
        "current_status = \"queued\"\n",
        "response_id = response.json()['id']\n",
        "endpoint = f\"https://api.assemblyai.com/v2/transcript/{response_id}\"\n",
        "headers = {\n",
        "    \"authorization\": API_key,\n",
        "}\n",
        "\n",
        "while current_status not in (\"completed\", \"error\"):\n",
        "\n",
        "    response = requests.get(endpoint, headers=headers)\n",
        "    current_status = response.json()['status']\n",
        "\n",
        "    if current_status in (\"completed\", \"error\"):\n",
        "        print(response)\n",
        "    else:\n",
        "        sleep(10)\n",
        "\n",
        "current_status"
      ],
      "metadata": {
        "colab": {
          "base_uri": "https://localhost:8080/",
          "height": 54
        },
        "id": "ySvcgy2SpD-z",
        "outputId": "342bab5e-484d-4a93-8ded-dd353d9e5955"
      },
      "execution_count": null,
      "outputs": [
        {
          "output_type": "stream",
          "name": "stdout",
          "text": [
            "<Response [200]>\n"
          ]
        },
        {
          "output_type": "execute_result",
          "data": {
            "text/plain": [
              "'completed'"
            ],
            "application/vnd.google.colaboratory.intrinsic+json": {
              "type": "string"
            }
          },
          "metadata": {},
          "execution_count": 16
        }
      ]
    },
    {
      "cell_type": "code",
      "source": [
        "response.json()\n"
      ],
      "metadata": {
        "colab": {
          "base_uri": "https://localhost:8080/"
        },
        "id": "Z1snQjLnpD_j",
        "outputId": "891c354e-278d-4eec-d63f-a4dec7dba730"
      },
      "execution_count": null,
      "outputs": [
        {
          "output_type": "execute_result",
          "data": {
            "text/plain": [
              "{'id': 'cf87acc3-dfab-4826-afcf-85f292736216',\n",
              " 'language_model': 'assemblyai_default',\n",
              " 'acoustic_model': 'assemblyai_default',\n",
              " 'language_code': 'en_us',\n",
              " 'status': 'completed',\n",
              " 'audio_url': 'https://cdn.assemblyai.com/upload/b10c2fe8-c871-49c4-89a4-db2eba655f38',\n",
              " 'text': '',\n",
              " 'words': [],\n",
              " 'utterances': None,\n",
              " 'confidence': 0.0,\n",
              " 'audio_duration': 60,\n",
              " 'punctuate': True,\n",
              " 'format_text': True,\n",
              " 'dual_channel': False,\n",
              " 'webhook_url': None,\n",
              " 'webhook_status_code': None,\n",
              " 'webhook_auth': False,\n",
              " 'webhook_auth_header_name': None,\n",
              " 'speed_boost': False,\n",
              " 'auto_highlights_result': None,\n",
              " 'auto_highlights': False,\n",
              " 'audio_start_from': None,\n",
              " 'audio_end_at': None,\n",
              " 'word_boost': [],\n",
              " 'boost_param': None,\n",
              " 'filter_profanity': False,\n",
              " 'redact_pii': False,\n",
              " 'redact_pii_audio': False,\n",
              " 'redact_pii_audio_quality': None,\n",
              " 'redact_pii_policies': None,\n",
              " 'redact_pii_sub': None,\n",
              " 'speaker_labels': True,\n",
              " 'content_safety': False,\n",
              " 'iab_categories': False,\n",
              " 'content_safety_labels': {'status': 'unavailable',\n",
              "  'results': [],\n",
              "  'summary': {}},\n",
              " 'iab_categories_result': {'status': 'unavailable',\n",
              "  'results': [],\n",
              "  'summary': {}},\n",
              " 'language_detection': False,\n",
              " 'language_detection_threshold': None,\n",
              " 'language_confidence': None,\n",
              " 'custom_spelling': None,\n",
              " 'throttled': False,\n",
              " 'auto_chapters': False,\n",
              " 'summarization': False,\n",
              " 'summary_type': None,\n",
              " 'summary_model': None,\n",
              " 'custom_topics': False,\n",
              " 'topics': [],\n",
              " 'speech_threshold': None,\n",
              " 'speech_model': None,\n",
              " 'chapters': None,\n",
              " 'disfluencies': False,\n",
              " 'entity_detection': False,\n",
              " 'sentiment_analysis': True,\n",
              " 'sentiment_analysis_results': None,\n",
              " 'entities': None,\n",
              " 'speakers_expected': None,\n",
              " 'summary': None,\n",
              " 'custom_topics_results': None,\n",
              " 'is_deleted': None}"
            ]
          },
          "metadata": {},
          "execution_count": 20
        }
      ]
    },
    {
      "cell_type": "code",
      "source": [
        "response.json()[\"sentiment_analysis_results\"][10]"
      ],
      "metadata": {
        "colab": {
          "base_uri": "https://localhost:8080/",
          "height": 146
        },
        "id": "qAdhYlaPp-Tk",
        "outputId": "8a541550-4efd-44ff-9699-0a8b5435372a"
      },
      "execution_count": null,
      "outputs": [
        {
          "output_type": "error",
          "ename": "TypeError",
          "evalue": "'NoneType' object is not subscriptable",
          "traceback": [
            "\u001b[0;31m---------------------------------------------------------------------------\u001b[0m",
            "\u001b[0;31mTypeError\u001b[0m                                 Traceback (most recent call last)",
            "\u001b[0;32m<ipython-input-21-be19e47d786d>\u001b[0m in \u001b[0;36m<cell line: 1>\u001b[0;34m()\u001b[0m\n\u001b[0;32m----> 1\u001b[0;31m \u001b[0mresponse\u001b[0m\u001b[0;34m.\u001b[0m\u001b[0mjson\u001b[0m\u001b[0;34m(\u001b[0m\u001b[0;34m)\u001b[0m\u001b[0;34m[\u001b[0m\u001b[0;34m\"sentiment_analysis_results\"\u001b[0m\u001b[0;34m]\u001b[0m\u001b[0;34m[\u001b[0m\u001b[0;36m10\u001b[0m\u001b[0;34m]\u001b[0m\u001b[0;34m\u001b[0m\u001b[0;34m\u001b[0m\u001b[0m\n\u001b[0m",
            "\u001b[0;31mTypeError\u001b[0m: 'NoneType' object is not subscriptable"
          ]
        }
      ]
    },
    {
      "cell_type": "code",
      "source": [
        "for i in response.json()[\"sentiment_analysis_results\"]:\n",
        "  print(i)"
      ],
      "metadata": {
        "colab": {
          "base_uri": "https://localhost:8080/",
          "height": 164
        },
        "id": "A58m6nHD1jLG",
        "outputId": "5676627d-7be5-47a3-831e-0036e343eea7"
      },
      "execution_count": null,
      "outputs": [
        {
          "output_type": "error",
          "ename": "TypeError",
          "evalue": "'NoneType' object is not iterable",
          "traceback": [
            "\u001b[0;31m---------------------------------------------------------------------------\u001b[0m",
            "\u001b[0;31mTypeError\u001b[0m                                 Traceback (most recent call last)",
            "\u001b[0;32m<ipython-input-18-85a93ca7d1ae>\u001b[0m in \u001b[0;36m<cell line: 1>\u001b[0;34m()\u001b[0m\n\u001b[0;32m----> 1\u001b[0;31m \u001b[0;32mfor\u001b[0m \u001b[0mi\u001b[0m \u001b[0;32min\u001b[0m \u001b[0mresponse\u001b[0m\u001b[0;34m.\u001b[0m\u001b[0mjson\u001b[0m\u001b[0;34m(\u001b[0m\u001b[0;34m)\u001b[0m\u001b[0;34m[\u001b[0m\u001b[0;34m\"sentiment_analysis_results\"\u001b[0m\u001b[0;34m]\u001b[0m\u001b[0;34m:\u001b[0m\u001b[0;34m\u001b[0m\u001b[0;34m\u001b[0m\u001b[0m\n\u001b[0m\u001b[1;32m      2\u001b[0m   \u001b[0mprint\u001b[0m\u001b[0;34m(\u001b[0m\u001b[0mi\u001b[0m\u001b[0;34m)\u001b[0m\u001b[0;34m\u001b[0m\u001b[0;34m\u001b[0m\u001b[0m\n",
            "\u001b[0;31mTypeError\u001b[0m: 'NoneType' object is not iterable"
          ]
        }
      ]
    },
    {
      "cell_type": "code",
      "source": [
        "sent_data = []\n",
        "\n",
        "for idx, sentence in enumerate(response.json()[\"sentiment_analysis_results\"]):\n",
        "\n",
        "    sent = sentence[\"text\"]\n",
        "    sentiment = sentence[\"sentiment\"]\n",
        "    duration = (sentence[\"end\"] - sentence[\"start\"]) / 1000\n",
        "    speaker = sentence[\"speaker\"]\n",
        "    sent_data.append([idx +1 , sent, duration, speaker, sentiment])\n",
        "\n",
        "sent_data = pd.DataFrame(sent_data,\n",
        "                         columns = [\"SentenceID\", \"Text\", \"Duration\",\n",
        "                                    \"Speaker\", \"Sentiment\"])"
      ],
      "metadata": {
        "id": "S_yi3IKxqKXD"
      },
      "execution_count": null,
      "outputs": []
    },
    {
      "cell_type": "code",
      "source": [
        "display(sent_data)"
      ],
      "metadata": {
        "colab": {
          "base_uri": "https://localhost:8080/",
          "height": 1000
        },
        "id": "8LosciqF2R88",
        "outputId": "94617ae0-5511-4f93-bed4-4d714d314cec"
      },
      "execution_count": null,
      "outputs": [
        {
          "output_type": "display_data",
          "data": {
            "text/plain": [
              "    SentenceID                                               Text  Duration  \\\n",
              "0            1                                             Hello?     0.580   \n",
              "1            2                   Hello, sir, this is from Amazon.     2.376   \n",
              "2            3                                    We are calling.     0.936   \n",
              "3            4                                               Sir.     0.424   \n",
              "4            5                  How did you find about our shoes?     3.572   \n",
              "5            6                 Which brand are you talking about?     1.280   \n",
              "6            7                                   Nike one of the.     1.168   \n",
              "7            8                                          Yes, yes.     0.808   \n",
              "8            9       The Nike one which you bought more recently.     2.480   \n",
              "9           10  Within one month, you have not submitted any r...     4.256   \n",
              "10          11  So can you please tell me about your sentiment...     4.434   \n",
              "11          12                                        Sure, sure.     1.052   \n",
              "12          13  The Nike shoes especially were very much comfo...     3.464   \n",
              "13          14                 When I wore it for the first time.     1.816   \n",
              "14          15  And the thing that I noticed is the color that...     6.156   \n",
              "15          16  I know that it's really the first copy of the ...    12.598   \n",
              "16          17                             So thank you for that.     1.206   \n",
              "17          18                                 Any other request?     1.200   \n",
              "18          19            What do you think about the durability?     2.592   \n",
              "19          20  Because you have been using it for almost one ...     6.968   \n",
              "20          21          The rainy season is going on at my place.     2.216   \n",
              "21          22  So when I wore it outside, a bit of a soaking ...     4.344   \n",
              "22          23                                      I noticed it.     1.112   \n",
              "23          24  But except for that, those issues, I think it'...     5.048   \n",
              "24          25                                Because when I was.     1.112   \n",
              "25          26                    How often are you wearing this?     2.100   \n",
              "26          27                                      I'm using it.     0.872   \n",
              "27          28              Using it as my regular jogging shoes.     2.288   \n",
              "28          29                   So more or less twice every day.     3.028   \n",
              "29          30                                              Okay.     0.496   \n",
              "30          31  And which part of it would you like to give mo...     5.560   \n",
              "31          32         The comfortability or the styling of this?     3.316   \n",
              "32          33  If you ask me in that manner, I would say that...     3.192   \n",
              "33          34          The styling is, of course, that makes it.     2.896   \n",
              "34          35         Makes it stand out much more in the crowd.     2.164   \n",
              "35          36  I'm not investing that much money into the ori...     7.240   \n",
              "36          37  Hence that helps me stand out in the normal cr...     3.060   \n",
              "37          38  From the durability point of view, as it's not...     8.540   \n",
              "38          39                                        That's all.     1.020   \n",
              "39          40                                         Okay, sir.     0.704   \n",
              "40          41                                         Thank you.     0.828   \n",
              "41          42                                              Okay.     0.456   \n",
              "42          43                             Thank you for calling.     0.592   \n",
              "\n",
              "   Speaker Sentiment  \n",
              "0        A   NEUTRAL  \n",
              "1        B  POSITIVE  \n",
              "2        B   NEUTRAL  \n",
              "3        A   NEUTRAL  \n",
              "4        B   NEUTRAL  \n",
              "5        A   NEUTRAL  \n",
              "6        A   NEUTRAL  \n",
              "7        B  POSITIVE  \n",
              "8        B   NEUTRAL  \n",
              "9        B  NEGATIVE  \n",
              "10       B   NEUTRAL  \n",
              "11       A  POSITIVE  \n",
              "12       A  POSITIVE  \n",
              "13       A   NEUTRAL  \n",
              "14       A   NEUTRAL  \n",
              "15       A  NEGATIVE  \n",
              "16       A  POSITIVE  \n",
              "17       B   NEUTRAL  \n",
              "18       B   NEUTRAL  \n",
              "19       B   NEUTRAL  \n",
              "20       A   NEUTRAL  \n",
              "21       A   NEUTRAL  \n",
              "22       A   NEUTRAL  \n",
              "23       A  POSITIVE  \n",
              "24       A   NEUTRAL  \n",
              "25       B   NEUTRAL  \n",
              "26       A   NEUTRAL  \n",
              "27       A   NEUTRAL  \n",
              "28       A   NEUTRAL  \n",
              "29       B   NEUTRAL  \n",
              "30       B   NEUTRAL  \n",
              "31       B   NEUTRAL  \n",
              "32       A   NEUTRAL  \n",
              "33       A   NEUTRAL  \n",
              "34       A  POSITIVE  \n",
              "35       A   NEUTRAL  \n",
              "36       A  POSITIVE  \n",
              "37       A  POSITIVE  \n",
              "38       A   NEUTRAL  \n",
              "39       B   NEUTRAL  \n",
              "40       B  POSITIVE  \n",
              "41       A   NEUTRAL  \n",
              "42       A  POSITIVE  "
            ],
            "text/html": [
              "\n",
              "  <div id=\"df-a2497a74-2492-4d37-a028-884936f259d6\" class=\"colab-df-container\">\n",
              "    <div>\n",
              "<style scoped>\n",
              "    .dataframe tbody tr th:only-of-type {\n",
              "        vertical-align: middle;\n",
              "    }\n",
              "\n",
              "    .dataframe tbody tr th {\n",
              "        vertical-align: top;\n",
              "    }\n",
              "\n",
              "    .dataframe thead th {\n",
              "        text-align: right;\n",
              "    }\n",
              "</style>\n",
              "<table border=\"1\" class=\"dataframe\">\n",
              "  <thead>\n",
              "    <tr style=\"text-align: right;\">\n",
              "      <th></th>\n",
              "      <th>SentenceID</th>\n",
              "      <th>Text</th>\n",
              "      <th>Duration</th>\n",
              "      <th>Speaker</th>\n",
              "      <th>Sentiment</th>\n",
              "    </tr>\n",
              "  </thead>\n",
              "  <tbody>\n",
              "    <tr>\n",
              "      <th>0</th>\n",
              "      <td>1</td>\n",
              "      <td>Hello?</td>\n",
              "      <td>0.580</td>\n",
              "      <td>A</td>\n",
              "      <td>NEUTRAL</td>\n",
              "    </tr>\n",
              "    <tr>\n",
              "      <th>1</th>\n",
              "      <td>2</td>\n",
              "      <td>Hello, sir, this is from Amazon.</td>\n",
              "      <td>2.376</td>\n",
              "      <td>B</td>\n",
              "      <td>POSITIVE</td>\n",
              "    </tr>\n",
              "    <tr>\n",
              "      <th>2</th>\n",
              "      <td>3</td>\n",
              "      <td>We are calling.</td>\n",
              "      <td>0.936</td>\n",
              "      <td>B</td>\n",
              "      <td>NEUTRAL</td>\n",
              "    </tr>\n",
              "    <tr>\n",
              "      <th>3</th>\n",
              "      <td>4</td>\n",
              "      <td>Sir.</td>\n",
              "      <td>0.424</td>\n",
              "      <td>A</td>\n",
              "      <td>NEUTRAL</td>\n",
              "    </tr>\n",
              "    <tr>\n",
              "      <th>4</th>\n",
              "      <td>5</td>\n",
              "      <td>How did you find about our shoes?</td>\n",
              "      <td>3.572</td>\n",
              "      <td>B</td>\n",
              "      <td>NEUTRAL</td>\n",
              "    </tr>\n",
              "    <tr>\n",
              "      <th>5</th>\n",
              "      <td>6</td>\n",
              "      <td>Which brand are you talking about?</td>\n",
              "      <td>1.280</td>\n",
              "      <td>A</td>\n",
              "      <td>NEUTRAL</td>\n",
              "    </tr>\n",
              "    <tr>\n",
              "      <th>6</th>\n",
              "      <td>7</td>\n",
              "      <td>Nike one of the.</td>\n",
              "      <td>1.168</td>\n",
              "      <td>A</td>\n",
              "      <td>NEUTRAL</td>\n",
              "    </tr>\n",
              "    <tr>\n",
              "      <th>7</th>\n",
              "      <td>8</td>\n",
              "      <td>Yes, yes.</td>\n",
              "      <td>0.808</td>\n",
              "      <td>B</td>\n",
              "      <td>POSITIVE</td>\n",
              "    </tr>\n",
              "    <tr>\n",
              "      <th>8</th>\n",
              "      <td>9</td>\n",
              "      <td>The Nike one which you bought more recently.</td>\n",
              "      <td>2.480</td>\n",
              "      <td>B</td>\n",
              "      <td>NEUTRAL</td>\n",
              "    </tr>\n",
              "    <tr>\n",
              "      <th>9</th>\n",
              "      <td>10</td>\n",
              "      <td>Within one month, you have not submitted any r...</td>\n",
              "      <td>4.256</td>\n",
              "      <td>B</td>\n",
              "      <td>NEGATIVE</td>\n",
              "    </tr>\n",
              "    <tr>\n",
              "      <th>10</th>\n",
              "      <td>11</td>\n",
              "      <td>So can you please tell me about your sentiment...</td>\n",
              "      <td>4.434</td>\n",
              "      <td>B</td>\n",
              "      <td>NEUTRAL</td>\n",
              "    </tr>\n",
              "    <tr>\n",
              "      <th>11</th>\n",
              "      <td>12</td>\n",
              "      <td>Sure, sure.</td>\n",
              "      <td>1.052</td>\n",
              "      <td>A</td>\n",
              "      <td>POSITIVE</td>\n",
              "    </tr>\n",
              "    <tr>\n",
              "      <th>12</th>\n",
              "      <td>13</td>\n",
              "      <td>The Nike shoes especially were very much comfo...</td>\n",
              "      <td>3.464</td>\n",
              "      <td>A</td>\n",
              "      <td>POSITIVE</td>\n",
              "    </tr>\n",
              "    <tr>\n",
              "      <th>13</th>\n",
              "      <td>14</td>\n",
              "      <td>When I wore it for the first time.</td>\n",
              "      <td>1.816</td>\n",
              "      <td>A</td>\n",
              "      <td>NEUTRAL</td>\n",
              "    </tr>\n",
              "    <tr>\n",
              "      <th>14</th>\n",
              "      <td>15</td>\n",
              "      <td>And the thing that I noticed is the color that...</td>\n",
              "      <td>6.156</td>\n",
              "      <td>A</td>\n",
              "      <td>NEUTRAL</td>\n",
              "    </tr>\n",
              "    <tr>\n",
              "      <th>15</th>\n",
              "      <td>16</td>\n",
              "      <td>I know that it's really the first copy of the ...</td>\n",
              "      <td>12.598</td>\n",
              "      <td>A</td>\n",
              "      <td>NEGATIVE</td>\n",
              "    </tr>\n",
              "    <tr>\n",
              "      <th>16</th>\n",
              "      <td>17</td>\n",
              "      <td>So thank you for that.</td>\n",
              "      <td>1.206</td>\n",
              "      <td>A</td>\n",
              "      <td>POSITIVE</td>\n",
              "    </tr>\n",
              "    <tr>\n",
              "      <th>17</th>\n",
              "      <td>18</td>\n",
              "      <td>Any other request?</td>\n",
              "      <td>1.200</td>\n",
              "      <td>B</td>\n",
              "      <td>NEUTRAL</td>\n",
              "    </tr>\n",
              "    <tr>\n",
              "      <th>18</th>\n",
              "      <td>19</td>\n",
              "      <td>What do you think about the durability?</td>\n",
              "      <td>2.592</td>\n",
              "      <td>B</td>\n",
              "      <td>NEUTRAL</td>\n",
              "    </tr>\n",
              "    <tr>\n",
              "      <th>19</th>\n",
              "      <td>20</td>\n",
              "      <td>Because you have been using it for almost one ...</td>\n",
              "      <td>6.968</td>\n",
              "      <td>B</td>\n",
              "      <td>NEUTRAL</td>\n",
              "    </tr>\n",
              "    <tr>\n",
              "      <th>20</th>\n",
              "      <td>21</td>\n",
              "      <td>The rainy season is going on at my place.</td>\n",
              "      <td>2.216</td>\n",
              "      <td>A</td>\n",
              "      <td>NEUTRAL</td>\n",
              "    </tr>\n",
              "    <tr>\n",
              "      <th>21</th>\n",
              "      <td>22</td>\n",
              "      <td>So when I wore it outside, a bit of a soaking ...</td>\n",
              "      <td>4.344</td>\n",
              "      <td>A</td>\n",
              "      <td>NEUTRAL</td>\n",
              "    </tr>\n",
              "    <tr>\n",
              "      <th>22</th>\n",
              "      <td>23</td>\n",
              "      <td>I noticed it.</td>\n",
              "      <td>1.112</td>\n",
              "      <td>A</td>\n",
              "      <td>NEUTRAL</td>\n",
              "    </tr>\n",
              "    <tr>\n",
              "      <th>23</th>\n",
              "      <td>24</td>\n",
              "      <td>But except for that, those issues, I think it'...</td>\n",
              "      <td>5.048</td>\n",
              "      <td>A</td>\n",
              "      <td>POSITIVE</td>\n",
              "    </tr>\n",
              "    <tr>\n",
              "      <th>24</th>\n",
              "      <td>25</td>\n",
              "      <td>Because when I was.</td>\n",
              "      <td>1.112</td>\n",
              "      <td>A</td>\n",
              "      <td>NEUTRAL</td>\n",
              "    </tr>\n",
              "    <tr>\n",
              "      <th>25</th>\n",
              "      <td>26</td>\n",
              "      <td>How often are you wearing this?</td>\n",
              "      <td>2.100</td>\n",
              "      <td>B</td>\n",
              "      <td>NEUTRAL</td>\n",
              "    </tr>\n",
              "    <tr>\n",
              "      <th>26</th>\n",
              "      <td>27</td>\n",
              "      <td>I'm using it.</td>\n",
              "      <td>0.872</td>\n",
              "      <td>A</td>\n",
              "      <td>NEUTRAL</td>\n",
              "    </tr>\n",
              "    <tr>\n",
              "      <th>27</th>\n",
              "      <td>28</td>\n",
              "      <td>Using it as my regular jogging shoes.</td>\n",
              "      <td>2.288</td>\n",
              "      <td>A</td>\n",
              "      <td>NEUTRAL</td>\n",
              "    </tr>\n",
              "    <tr>\n",
              "      <th>28</th>\n",
              "      <td>29</td>\n",
              "      <td>So more or less twice every day.</td>\n",
              "      <td>3.028</td>\n",
              "      <td>A</td>\n",
              "      <td>NEUTRAL</td>\n",
              "    </tr>\n",
              "    <tr>\n",
              "      <th>29</th>\n",
              "      <td>30</td>\n",
              "      <td>Okay.</td>\n",
              "      <td>0.496</td>\n",
              "      <td>B</td>\n",
              "      <td>NEUTRAL</td>\n",
              "    </tr>\n",
              "    <tr>\n",
              "      <th>30</th>\n",
              "      <td>31</td>\n",
              "      <td>And which part of it would you like to give mo...</td>\n",
              "      <td>5.560</td>\n",
              "      <td>B</td>\n",
              "      <td>NEUTRAL</td>\n",
              "    </tr>\n",
              "    <tr>\n",
              "      <th>31</th>\n",
              "      <td>32</td>\n",
              "      <td>The comfortability or the styling of this?</td>\n",
              "      <td>3.316</td>\n",
              "      <td>B</td>\n",
              "      <td>NEUTRAL</td>\n",
              "    </tr>\n",
              "    <tr>\n",
              "      <th>32</th>\n",
              "      <td>33</td>\n",
              "      <td>If you ask me in that manner, I would say that...</td>\n",
              "      <td>3.192</td>\n",
              "      <td>A</td>\n",
              "      <td>NEUTRAL</td>\n",
              "    </tr>\n",
              "    <tr>\n",
              "      <th>33</th>\n",
              "      <td>34</td>\n",
              "      <td>The styling is, of course, that makes it.</td>\n",
              "      <td>2.896</td>\n",
              "      <td>A</td>\n",
              "      <td>NEUTRAL</td>\n",
              "    </tr>\n",
              "    <tr>\n",
              "      <th>34</th>\n",
              "      <td>35</td>\n",
              "      <td>Makes it stand out much more in the crowd.</td>\n",
              "      <td>2.164</td>\n",
              "      <td>A</td>\n",
              "      <td>POSITIVE</td>\n",
              "    </tr>\n",
              "    <tr>\n",
              "      <th>35</th>\n",
              "      <td>36</td>\n",
              "      <td>I'm not investing that much money into the ori...</td>\n",
              "      <td>7.240</td>\n",
              "      <td>A</td>\n",
              "      <td>NEUTRAL</td>\n",
              "    </tr>\n",
              "    <tr>\n",
              "      <th>36</th>\n",
              "      <td>37</td>\n",
              "      <td>Hence that helps me stand out in the normal cr...</td>\n",
              "      <td>3.060</td>\n",
              "      <td>A</td>\n",
              "      <td>POSITIVE</td>\n",
              "    </tr>\n",
              "    <tr>\n",
              "      <th>37</th>\n",
              "      <td>38</td>\n",
              "      <td>From the durability point of view, as it's not...</td>\n",
              "      <td>8.540</td>\n",
              "      <td>A</td>\n",
              "      <td>POSITIVE</td>\n",
              "    </tr>\n",
              "    <tr>\n",
              "      <th>38</th>\n",
              "      <td>39</td>\n",
              "      <td>That's all.</td>\n",
              "      <td>1.020</td>\n",
              "      <td>A</td>\n",
              "      <td>NEUTRAL</td>\n",
              "    </tr>\n",
              "    <tr>\n",
              "      <th>39</th>\n",
              "      <td>40</td>\n",
              "      <td>Okay, sir.</td>\n",
              "      <td>0.704</td>\n",
              "      <td>B</td>\n",
              "      <td>NEUTRAL</td>\n",
              "    </tr>\n",
              "    <tr>\n",
              "      <th>40</th>\n",
              "      <td>41</td>\n",
              "      <td>Thank you.</td>\n",
              "      <td>0.828</td>\n",
              "      <td>B</td>\n",
              "      <td>POSITIVE</td>\n",
              "    </tr>\n",
              "    <tr>\n",
              "      <th>41</th>\n",
              "      <td>42</td>\n",
              "      <td>Okay.</td>\n",
              "      <td>0.456</td>\n",
              "      <td>A</td>\n",
              "      <td>NEUTRAL</td>\n",
              "    </tr>\n",
              "    <tr>\n",
              "      <th>42</th>\n",
              "      <td>43</td>\n",
              "      <td>Thank you for calling.</td>\n",
              "      <td>0.592</td>\n",
              "      <td>A</td>\n",
              "      <td>POSITIVE</td>\n",
              "    </tr>\n",
              "  </tbody>\n",
              "</table>\n",
              "</div>\n",
              "    <div class=\"colab-df-buttons\">\n",
              "\n",
              "  <div class=\"colab-df-container\">\n",
              "    <button class=\"colab-df-convert\" onclick=\"convertToInteractive('df-a2497a74-2492-4d37-a028-884936f259d6')\"\n",
              "            title=\"Convert this dataframe to an interactive table.\"\n",
              "            style=\"display:none;\">\n",
              "\n",
              "  <svg xmlns=\"http://www.w3.org/2000/svg\" height=\"24px\" viewBox=\"0 -960 960 960\">\n",
              "    <path d=\"M120-120v-720h720v720H120Zm60-500h600v-160H180v160Zm220 220h160v-160H400v160Zm0 220h160v-160H400v160ZM180-400h160v-160H180v160Zm440 0h160v-160H620v160ZM180-180h160v-160H180v160Zm440 0h160v-160H620v160Z\"/>\n",
              "  </svg>\n",
              "    </button>\n",
              "\n",
              "  <style>\n",
              "    .colab-df-container {\n",
              "      display:flex;\n",
              "      gap: 12px;\n",
              "    }\n",
              "\n",
              "    .colab-df-convert {\n",
              "      background-color: #E8F0FE;\n",
              "      border: none;\n",
              "      border-radius: 50%;\n",
              "      cursor: pointer;\n",
              "      display: none;\n",
              "      fill: #1967D2;\n",
              "      height: 32px;\n",
              "      padding: 0 0 0 0;\n",
              "      width: 32px;\n",
              "    }\n",
              "\n",
              "    .colab-df-convert:hover {\n",
              "      background-color: #E2EBFA;\n",
              "      box-shadow: 0px 1px 2px rgba(60, 64, 67, 0.3), 0px 1px 3px 1px rgba(60, 64, 67, 0.15);\n",
              "      fill: #174EA6;\n",
              "    }\n",
              "\n",
              "    .colab-df-buttons div {\n",
              "      margin-bottom: 4px;\n",
              "    }\n",
              "\n",
              "    [theme=dark] .colab-df-convert {\n",
              "      background-color: #3B4455;\n",
              "      fill: #D2E3FC;\n",
              "    }\n",
              "\n",
              "    [theme=dark] .colab-df-convert:hover {\n",
              "      background-color: #434B5C;\n",
              "      box-shadow: 0px 1px 3px 1px rgba(0, 0, 0, 0.15);\n",
              "      filter: drop-shadow(0px 1px 2px rgba(0, 0, 0, 0.3));\n",
              "      fill: #FFFFFF;\n",
              "    }\n",
              "  </style>\n",
              "\n",
              "    <script>\n",
              "      const buttonEl =\n",
              "        document.querySelector('#df-a2497a74-2492-4d37-a028-884936f259d6 button.colab-df-convert');\n",
              "      buttonEl.style.display =\n",
              "        google.colab.kernel.accessAllowed ? 'block' : 'none';\n",
              "\n",
              "      async function convertToInteractive(key) {\n",
              "        const element = document.querySelector('#df-a2497a74-2492-4d37-a028-884936f259d6');\n",
              "        const dataTable =\n",
              "          await google.colab.kernel.invokeFunction('convertToInteractive',\n",
              "                                                    [key], {});\n",
              "        if (!dataTable) return;\n",
              "\n",
              "        const docLinkHtml = 'Like what you see? Visit the ' +\n",
              "          '<a target=\"_blank\" href=https://colab.research.google.com/notebooks/data_table.ipynb>data table notebook</a>'\n",
              "          + ' to learn more about interactive tables.';\n",
              "        element.innerHTML = '';\n",
              "        dataTable['output_type'] = 'display_data';\n",
              "        await google.colab.output.renderOutput(dataTable, element);\n",
              "        const docLink = document.createElement('div');\n",
              "        docLink.innerHTML = docLinkHtml;\n",
              "        element.appendChild(docLink);\n",
              "      }\n",
              "    </script>\n",
              "  </div>\n",
              "\n",
              "\n",
              "<div id=\"df-5a9bd3b4-64b2-491e-b8a9-7856fb9555c5\">\n",
              "  <button class=\"colab-df-quickchart\" onclick=\"quickchart('df-5a9bd3b4-64b2-491e-b8a9-7856fb9555c5')\"\n",
              "            title=\"Suggest charts\"\n",
              "            style=\"display:none;\">\n",
              "\n",
              "<svg xmlns=\"http://www.w3.org/2000/svg\" height=\"24px\"viewBox=\"0 0 24 24\"\n",
              "     width=\"24px\">\n",
              "    <g>\n",
              "        <path d=\"M19 3H5c-1.1 0-2 .9-2 2v14c0 1.1.9 2 2 2h14c1.1 0 2-.9 2-2V5c0-1.1-.9-2-2-2zM9 17H7v-7h2v7zm4 0h-2V7h2v10zm4 0h-2v-4h2v4z\"/>\n",
              "    </g>\n",
              "</svg>\n",
              "  </button>\n",
              "\n",
              "<style>\n",
              "  .colab-df-quickchart {\n",
              "      --bg-color: #E8F0FE;\n",
              "      --fill-color: #1967D2;\n",
              "      --hover-bg-color: #E2EBFA;\n",
              "      --hover-fill-color: #174EA6;\n",
              "      --disabled-fill-color: #AAA;\n",
              "      --disabled-bg-color: #DDD;\n",
              "  }\n",
              "\n",
              "  [theme=dark] .colab-df-quickchart {\n",
              "      --bg-color: #3B4455;\n",
              "      --fill-color: #D2E3FC;\n",
              "      --hover-bg-color: #434B5C;\n",
              "      --hover-fill-color: #FFFFFF;\n",
              "      --disabled-bg-color: #3B4455;\n",
              "      --disabled-fill-color: #666;\n",
              "  }\n",
              "\n",
              "  .colab-df-quickchart {\n",
              "    background-color: var(--bg-color);\n",
              "    border: none;\n",
              "    border-radius: 50%;\n",
              "    cursor: pointer;\n",
              "    display: none;\n",
              "    fill: var(--fill-color);\n",
              "    height: 32px;\n",
              "    padding: 0;\n",
              "    width: 32px;\n",
              "  }\n",
              "\n",
              "  .colab-df-quickchart:hover {\n",
              "    background-color: var(--hover-bg-color);\n",
              "    box-shadow: 0 1px 2px rgba(60, 64, 67, 0.3), 0 1px 3px 1px rgba(60, 64, 67, 0.15);\n",
              "    fill: var(--button-hover-fill-color);\n",
              "  }\n",
              "\n",
              "  .colab-df-quickchart-complete:disabled,\n",
              "  .colab-df-quickchart-complete:disabled:hover {\n",
              "    background-color: var(--disabled-bg-color);\n",
              "    fill: var(--disabled-fill-color);\n",
              "    box-shadow: none;\n",
              "  }\n",
              "\n",
              "  .colab-df-spinner {\n",
              "    border: 2px solid var(--fill-color);\n",
              "    border-color: transparent;\n",
              "    border-bottom-color: var(--fill-color);\n",
              "    animation:\n",
              "      spin 1s steps(1) infinite;\n",
              "  }\n",
              "\n",
              "  @keyframes spin {\n",
              "    0% {\n",
              "      border-color: transparent;\n",
              "      border-bottom-color: var(--fill-color);\n",
              "      border-left-color: var(--fill-color);\n",
              "    }\n",
              "    20% {\n",
              "      border-color: transparent;\n",
              "      border-left-color: var(--fill-color);\n",
              "      border-top-color: var(--fill-color);\n",
              "    }\n",
              "    30% {\n",
              "      border-color: transparent;\n",
              "      border-left-color: var(--fill-color);\n",
              "      border-top-color: var(--fill-color);\n",
              "      border-right-color: var(--fill-color);\n",
              "    }\n",
              "    40% {\n",
              "      border-color: transparent;\n",
              "      border-right-color: var(--fill-color);\n",
              "      border-top-color: var(--fill-color);\n",
              "    }\n",
              "    60% {\n",
              "      border-color: transparent;\n",
              "      border-right-color: var(--fill-color);\n",
              "    }\n",
              "    80% {\n",
              "      border-color: transparent;\n",
              "      border-right-color: var(--fill-color);\n",
              "      border-bottom-color: var(--fill-color);\n",
              "    }\n",
              "    90% {\n",
              "      border-color: transparent;\n",
              "      border-bottom-color: var(--fill-color);\n",
              "    }\n",
              "  }\n",
              "</style>\n",
              "\n",
              "  <script>\n",
              "    async function quickchart(key) {\n",
              "      const quickchartButtonEl =\n",
              "        document.querySelector('#' + key + ' button');\n",
              "      quickchartButtonEl.disabled = true;  // To prevent multiple clicks.\n",
              "      quickchartButtonEl.classList.add('colab-df-spinner');\n",
              "      try {\n",
              "        const charts = await google.colab.kernel.invokeFunction(\n",
              "            'suggestCharts', [key], {});\n",
              "      } catch (error) {\n",
              "        console.error('Error during call to suggestCharts:', error);\n",
              "      }\n",
              "      quickchartButtonEl.classList.remove('colab-df-spinner');\n",
              "      quickchartButtonEl.classList.add('colab-df-quickchart-complete');\n",
              "    }\n",
              "    (() => {\n",
              "      let quickchartButtonEl =\n",
              "        document.querySelector('#df-5a9bd3b4-64b2-491e-b8a9-7856fb9555c5 button');\n",
              "      quickchartButtonEl.style.display =\n",
              "        google.colab.kernel.accessAllowed ? 'block' : 'none';\n",
              "    })();\n",
              "  </script>\n",
              "</div>\n",
              "\n",
              "  <div id=\"id_78b2b03a-77b7-4363-89f1-a2fc185dc092\">\n",
              "    <style>\n",
              "      .colab-df-generate {\n",
              "        background-color: #E8F0FE;\n",
              "        border: none;\n",
              "        border-radius: 50%;\n",
              "        cursor: pointer;\n",
              "        display: none;\n",
              "        fill: #1967D2;\n",
              "        height: 32px;\n",
              "        padding: 0 0 0 0;\n",
              "        width: 32px;\n",
              "      }\n",
              "\n",
              "      .colab-df-generate:hover {\n",
              "        background-color: #E2EBFA;\n",
              "        box-shadow: 0px 1px 2px rgba(60, 64, 67, 0.3), 0px 1px 3px 1px rgba(60, 64, 67, 0.15);\n",
              "        fill: #174EA6;\n",
              "      }\n",
              "\n",
              "      [theme=dark] .colab-df-generate {\n",
              "        background-color: #3B4455;\n",
              "        fill: #D2E3FC;\n",
              "      }\n",
              "\n",
              "      [theme=dark] .colab-df-generate:hover {\n",
              "        background-color: #434B5C;\n",
              "        box-shadow: 0px 1px 3px 1px rgba(0, 0, 0, 0.15);\n",
              "        filter: drop-shadow(0px 1px 2px rgba(0, 0, 0, 0.3));\n",
              "        fill: #FFFFFF;\n",
              "      }\n",
              "    </style>\n",
              "    <button class=\"colab-df-generate\" onclick=\"generateWithVariable('sent_data')\"\n",
              "            title=\"Generate code using this dataframe.\"\n",
              "            style=\"display:none;\">\n",
              "\n",
              "  <svg xmlns=\"http://www.w3.org/2000/svg\" height=\"24px\"viewBox=\"0 0 24 24\"\n",
              "       width=\"24px\">\n",
              "    <path d=\"M7,19H8.4L18.45,9,17,7.55,7,17.6ZM5,21V16.75L18.45,3.32a2,2,0,0,1,2.83,0l1.4,1.43a1.91,1.91,0,0,1,.58,1.4,1.91,1.91,0,0,1-.58,1.4L9.25,21ZM18.45,9,17,7.55Zm-12,3A5.31,5.31,0,0,0,4.9,8.1,5.31,5.31,0,0,0,1,6.5,5.31,5.31,0,0,0,4.9,4.9,5.31,5.31,0,0,0,6.5,1,5.31,5.31,0,0,0,8.1,4.9,5.31,5.31,0,0,0,12,6.5,5.46,5.46,0,0,0,6.5,12Z\"/>\n",
              "  </svg>\n",
              "    </button>\n",
              "    <script>\n",
              "      (() => {\n",
              "      const buttonEl =\n",
              "        document.querySelector('#id_78b2b03a-77b7-4363-89f1-a2fc185dc092 button.colab-df-generate');\n",
              "      buttonEl.style.display =\n",
              "        google.colab.kernel.accessAllowed ? 'block' : 'none';\n",
              "\n",
              "      buttonEl.onclick = () => {\n",
              "        google.colab.notebook.generateWithVariable('sent_data');\n",
              "      }\n",
              "      })();\n",
              "    </script>\n",
              "  </div>\n",
              "\n",
              "    </div>\n",
              "  </div>\n"
            ],
            "application/vnd.google.colaboratory.intrinsic+json": {
              "type": "dataframe",
              "variable_name": "sent_data",
              "summary": "{\n  \"name\": \"sent_data\",\n  \"rows\": 43,\n  \"fields\": [\n    {\n      \"column\": \"SentenceID\",\n      \"properties\": {\n        \"dtype\": \"number\",\n        \"std\": 12,\n        \"min\": 1,\n        \"max\": 43,\n        \"num_unique_values\": 43,\n        \"samples\": [\n          38,\n          25,\n          26\n        ],\n        \"semantic_type\": \"\",\n        \"description\": \"\"\n      }\n    },\n    {\n      \"column\": \"Text\",\n      \"properties\": {\n        \"dtype\": \"string\",\n        \"num_unique_values\": 42,\n        \"samples\": [\n          \"How often are you wearing this?\",\n          \"When I wore it for the first time.\",\n          \"The Nike one which you bought more recently.\"\n        ],\n        \"semantic_type\": \"\",\n        \"description\": \"\"\n      }\n    },\n    {\n      \"column\": \"Duration\",\n      \"properties\": {\n        \"dtype\": \"number\",\n        \"std\": 2.5316046115441457,\n        \"min\": 0.424,\n        \"max\": 12.598,\n        \"num_unique_values\": 42,\n        \"samples\": [\n          0.872,\n          1.816,\n          2.48\n        ],\n        \"semantic_type\": \"\",\n        \"description\": \"\"\n      }\n    },\n    {\n      \"column\": \"Speaker\",\n      \"properties\": {\n        \"dtype\": \"category\",\n        \"num_unique_values\": 2,\n        \"samples\": [\n          \"B\",\n          \"A\"\n        ],\n        \"semantic_type\": \"\",\n        \"description\": \"\"\n      }\n    },\n    {\n      \"column\": \"Sentiment\",\n      \"properties\": {\n        \"dtype\": \"category\",\n        \"num_unique_values\": 3,\n        \"samples\": [\n          \"NEUTRAL\",\n          \"POSITIVE\"\n        ],\n        \"semantic_type\": \"\",\n        \"description\": \"\"\n      }\n    }\n  ]\n}"
            }
          },
          "metadata": {}
        }
      ]
    },
    {
      "cell_type": "code",
      "source": [
        "sent_data.Speaker.value_counts()"
      ],
      "metadata": {
        "colab": {
          "base_uri": "https://localhost:8080/"
        },
        "id": "pc1UqZAHqTI1",
        "outputId": "4e7dcf19-a1f7-49bc-d4f3-8c15cdee5d24"
      },
      "execution_count": null,
      "outputs": [
        {
          "output_type": "execute_result",
          "data": {
            "text/plain": [
              "A    24\n",
              "B    13\n",
              "Name: Speaker, dtype: int64"
            ]
          },
          "metadata": {},
          "execution_count": 15
        }
      ]
    },
    {
      "cell_type": "code",
      "source": [
        "100*sent_data.Speaker.value_counts(normalize=True)"
      ],
      "metadata": {
        "colab": {
          "base_uri": "https://localhost:8080/"
        },
        "id": "YM28iol5v87F",
        "outputId": "d0e2494a-c189-4998-f23a-aeb9c182f74d"
      },
      "execution_count": null,
      "outputs": [
        {
          "output_type": "execute_result",
          "data": {
            "text/plain": [
              "A    64.864865\n",
              "B    35.135135\n",
              "Name: Speaker, dtype: float64"
            ]
          },
          "metadata": {},
          "execution_count": 16
        }
      ]
    },
    {
      "cell_type": "code",
      "source": [
        "sent_data.groupby(\"Speaker\").Duration.sum()"
      ],
      "metadata": {
        "colab": {
          "base_uri": "https://localhost:8080/"
        },
        "id": "D0PZq_xsv-b9",
        "outputId": "81d18b1a-61ce-4587-eeb1-167820712757"
      },
      "execution_count": null,
      "outputs": [
        {
          "output_type": "execute_result",
          "data": {
            "text/plain": [
              "Speaker\n",
              "A    82.928\n",
              "B    38.938\n",
              "Name: Duration, dtype: float64"
            ]
          },
          "metadata": {},
          "execution_count": 17
        }
      ]
    },
    {
      "cell_type": "code",
      "source": [
        "sent_data.Sentiment.value_counts()"
      ],
      "metadata": {
        "colab": {
          "base_uri": "https://localhost:8080/"
        },
        "id": "xi9VTJQpwVuj",
        "outputId": "8652d429-e4ee-4820-aa81-62d05d85b61d"
      },
      "execution_count": null,
      "outputs": [
        {
          "output_type": "execute_result",
          "data": {
            "text/plain": [
              "NEUTRAL     24\n",
              "POSITIVE    11\n",
              "NEGATIVE     2\n",
              "Name: Sentiment, dtype: int64"
            ]
          },
          "metadata": {},
          "execution_count": 18
        }
      ]
    },
    {
      "cell_type": "code",
      "source": [
        "100*sent_data.Sentiment.value_counts(normalize=True)\n"
      ],
      "metadata": {
        "colab": {
          "base_uri": "https://localhost:8080/"
        },
        "id": "CEAtxol5wiq9",
        "outputId": "808b0fe4-7c9b-496c-d733-d51bd415f39a"
      },
      "execution_count": null,
      "outputs": [
        {
          "output_type": "execute_result",
          "data": {
            "text/plain": [
              "NEUTRAL     64.864865\n",
              "POSITIVE    29.729730\n",
              "NEGATIVE     5.405405\n",
              "Name: Sentiment, dtype: float64"
            ]
          },
          "metadata": {},
          "execution_count": 19
        }
      ]
    },
    {
      "cell_type": "code",
      "source": [
        "print(pd.crosstab(sent_data.Speaker, sent_data.Sentiment))"
      ],
      "metadata": {
        "colab": {
          "base_uri": "https://localhost:8080/"
        },
        "id": "TwRsuoBTwsfY",
        "outputId": "0476bfa2-d9ce-404f-dfec-bb3ef20097c2"
      },
      "execution_count": null,
      "outputs": [
        {
          "output_type": "stream",
          "name": "stdout",
          "text": [
            "Sentiment  NEGATIVE  NEUTRAL  POSITIVE\n",
            "Speaker                               \n",
            "A                 2       14         8\n",
            "B                 0       10         3\n"
          ]
        }
      ]
    },
    {
      "cell_type": "code",
      "source": [
        "sent_data.groupby(\"Sentiment\").Duration.mean()"
      ],
      "metadata": {
        "colab": {
          "base_uri": "https://localhost:8080/"
        },
        "id": "6B9bgOc0wtja",
        "outputId": "1e6ebef1-fcda-486f-875e-b0e022e32543"
      },
      "execution_count": null,
      "outputs": [
        {
          "output_type": "execute_result",
          "data": {
            "text/plain": [
              "Sentiment\n",
              "NEGATIVE    4.180000\n",
              "NEUTRAL     3.108667\n",
              "POSITIVE    3.536182\n",
              "Name: Duration, dtype: float64"
            ]
          },
          "metadata": {},
          "execution_count": 21
        }
      ]
    }
  ]
}